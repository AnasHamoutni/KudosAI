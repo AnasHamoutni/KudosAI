{
  "nbformat": 4,
  "nbformat_minor": 0,
  "metadata": {
    "colab": {
      "provenance": [],
      "collapsed_sections": []
    },
    "kernelspec": {
      "name": "python3",
      "display_name": "Python 3"
    },
    "language_info": {
      "name": "python"
    }
  },
  "cells": [
    {
      "cell_type": "markdown",
      "source": [
        "# **Multilingual Text Summarizer**\n",
        "\n",
        "Hello,\n",
        "\n",
        "My name is **Anas HAMOUTNI** and I am a **Moroccan Data Scientist**.\n",
        "\n",
        "This project aims to build a **Multilanguage Abstractive/Extractive** text **Summarizer** based on the **'t5-large'** model from the **[Hugging Face Transformer library](https://huggingface.co/t5-large?text=My+name+is+Wolfgang+and+I+live+in+Berlin)** and the **Google Translation API**.\n",
        "\n",
        "**T5** is an **encoder-decoder** model pre-trained on a multi-task mixture of unsupervised and supervised tasks and for which each task is converted into a text-to-text format. \n",
        "\n",
        "\n",
        "\n",
        "\n"
      ],
      "metadata": {
        "id": "ItutewGae5uv"
      }
    },
    {
      "cell_type": "code",
      "source": [
        "#@title ##**Install and Import all the necessary libraries** { display-mode: \"form\" }\n",
        "!pip install googletrans==3.1.0a0\n",
        "!pip install microsofttranslator\n",
        "!pip install translate\n",
        "!pip install --no-cache-dir transformers sentencepiece\n",
        "!pip install transformers\n",
        "from transformers import pipeline\n",
        "from googletrans import Translator as tG\n",
        "from IPython.display import clear_output\n",
        "from google.colab import files\n",
        "import os\n",
        "clear_output()"
      ],
      "metadata": {
        "id": "He_cVaXhK-UY"
      },
      "execution_count": 7,
      "outputs": []
    },
    {
      "cell_type": "code",
      "source": [
        "#@title ##**Instantiate the model** { display-mode: \"form\" }\n",
        "\n",
        "from transformers import AutoTokenizer, AutoModelForSeq2SeqLM\n",
        "\n",
        "tokenizer = AutoTokenizer.from_pretrained(\"t5-large\",use_fast=False) #Instantiating the tokenizer\n",
        "\n",
        "model = AutoModelForSeq2SeqLM.from_pretrained(\"t5-large\") #Instantiating the model\n",
        "\n",
        "clear_output()"
      ],
      "metadata": {
        "id": "idXAahCponwh"
      },
      "execution_count": 8,
      "outputs": []
    },
    {
      "cell_type": "code",
      "execution_count": 9,
      "metadata": {
        "id": "MaBIDVfydiZp"
      },
      "outputs": [],
      "source": [
        "#@title ##**Enter Inputs** { display-mode: \"form\" }\n",
        "#@markdown **Enter the Text which you need to Summarize:**\n",
        "Text= \"La tour Eiffel est une tour en fer situ\\\\xE9 sur le Champ de Mars, \\\\xE0 Paris, en France. Elle doit son nom \\\\xE0 l'ing\\\\xE9nieur Gustave Eiffel, qui en est le cr\\\\xE9ateur. Elle a \\\\xE9t\\\\xE9 inaugur\\\\xE9e le 31 mars 1889, lors de l'Exposition universelle qui se d\\\\xE9roulait \\\\xE0 Paris la m\\\\xEAme ann\\\\xE9e. Sa hauteur est de 330 m\\\\xE8tres, en comptant les antennes dispos\\\\xE9es \\\\xE0 son sommet. Au d\\\\xE9part, la tour Eiffel devait \\\\xEAtre d\\\\xE9truite apr\\\\xE8s l'Exposition. Son nombre de visiteurs diminua consid\\\\xE9rablement apr\\\\xE8s 1889, et la baisse du prix du ticket n'y changea rien.  Gustave Eiffel, sachant tr\\\\xE8s bien que sa tour \\\\xE9tait en danger, prit l'initiative de l'utiliser pour mener des exp\\\\xE9riences scientifiques, notamment en m\\\\xE9t\\\\xE9orologie. Puis, l'ing\\\\xE9nieur a permis d'installer une antenne pour la t\\\\xE9l\\\\xE9graphie sans fil au sommet de la tour.\\\"\" #@param {type: \"string\"}\n",
        "#@markdown **Enter the Maximum word Length of the Summary:**\n",
        "Maxlen=80 #@param {type: \"integer\"}\n",
        "#@markdown **Enter the Minimum word Length of the Summary:**\n",
        "Minlen=10 #@param {type: \"integer\"}"
      ]
    },
    {
      "cell_type": "code",
      "source": [
        "#@title ##**Summarize** { display-mode: \"form\" }\n",
        "if os.path.isfile('./Summary.txt'):\n",
        "  !rm Summary.txt\n",
        "\n",
        "\n",
        "Gtranslator=tG() #Instantiate the google translator\n",
        "\n",
        "src=Gtranslator.translate(str(Text)).src #Get the source language of the input text\n",
        "\n",
        "translated_Text=Gtranslator.translate(Gtranslator.translate(Gtranslator.translate(Gtranslator.translate(str(Text),dest=\"en\").text, dest=\"es\").text, dest='fr').text, dest='en').text #Translate the input text to english\n",
        "\n",
        "tokens_input = tokenizer.encode(\"summarize: \" + translated_Text, return_tensors='pt', max_length=20000, truncation=True) #Tokenizing the translated input text\n",
        "\n",
        "summary_ids = model.generate(tokens_input, min_length=Minlen, max_length=Maxlen) #Getting the model's tensor summary\n",
        "\n",
        "summary = tokenizer.decode(summary_ids[0], skip_special_tokens=True) #Decoding the tensor into text result\n",
        "\n",
        "originalLangSummary = Gtranslator.translate(str(summary),dest=src).text #Return Summary in original language\n",
        "\n",
        "print(\"Your summary:\\n\")\n",
        "\n",
        "print(originalLangSummary) #Returning the result\n",
        "\n",
        "with open('Summary.txt', 'w') as f:\n",
        "    f.write(originalLangSummary)\n",
        "\n",
        "files.download('Summary.txt')\n",
        "\n"
      ],
      "metadata": {
        "colab": {
          "base_uri": "https://localhost:8080/",
          "height": 89
        },
        "id": "bPiqO5YOVWKF",
        "outputId": "c2fafcee-238e-45df-a3d4-9939d03e7a60"
      },
      "execution_count": 10,
      "outputs": [
        {
          "output_type": "stream",
          "name": "stdout",
          "text": [
            "Your summary:\n",
            "\n",
            "la tour Eiffel est une tour de fer située sur le Champ de mars, xE0 Paris, france. il fut inauguré le 31 mars 1889, lors de l'exposition universelle qui eut lieu à Paris la même année. la tour devait être démolie après l'expo, mais la baisse du prix d'entrée n'y a rien changé.\n"
          ]
        },
        {
          "output_type": "display_data",
          "data": {
            "text/plain": [
              "<IPython.core.display.Javascript object>"
            ],
            "application/javascript": [
              "\n",
              "    async function download(id, filename, size) {\n",
              "      if (!google.colab.kernel.accessAllowed) {\n",
              "        return;\n",
              "      }\n",
              "      const div = document.createElement('div');\n",
              "      const label = document.createElement('label');\n",
              "      label.textContent = `Downloading \"${filename}\": `;\n",
              "      div.appendChild(label);\n",
              "      const progress = document.createElement('progress');\n",
              "      progress.max = size;\n",
              "      div.appendChild(progress);\n",
              "      document.body.appendChild(div);\n",
              "\n",
              "      const buffers = [];\n",
              "      let downloaded = 0;\n",
              "\n",
              "      const channel = await google.colab.kernel.comms.open(id);\n",
              "      // Send a message to notify the kernel that we're ready.\n",
              "      channel.send({})\n",
              "\n",
              "      for await (const message of channel.messages) {\n",
              "        // Send a message to notify the kernel that we're ready.\n",
              "        channel.send({})\n",
              "        if (message.buffers) {\n",
              "          for (const buffer of message.buffers) {\n",
              "            buffers.push(buffer);\n",
              "            downloaded += buffer.byteLength;\n",
              "            progress.value = downloaded;\n",
              "          }\n",
              "        }\n",
              "      }\n",
              "      const blob = new Blob(buffers, {type: 'application/binary'});\n",
              "      const a = document.createElement('a');\n",
              "      a.href = window.URL.createObjectURL(blob);\n",
              "      a.download = filename;\n",
              "      div.appendChild(a);\n",
              "      a.click();\n",
              "      div.remove();\n",
              "    }\n",
              "  "
            ]
          },
          "metadata": {}
        },
        {
          "output_type": "display_data",
          "data": {
            "text/plain": [
              "<IPython.core.display.Javascript object>"
            ],
            "application/javascript": [
              "download(\"download_9a9011bd-10d8-4026-912f-8595fbd69814\", \"Summary.txt\", 287)"
            ]
          },
          "metadata": {}
        }
      ]
    },
    {
      "cell_type": "markdown",
      "source": [],
      "metadata": {
        "id": "Xo_W0im8VD-t"
      }
    }
  ]
}